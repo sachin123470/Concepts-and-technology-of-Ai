{
 "cells": [
  {
   "cell_type": "code",
   "execution_count": 1,
   "metadata": {},
   "outputs": [
    {
     "name": "stdout",
     "output_type": "stream",
     "text": [
      "Decision Tree Classifier F1 Score: 0.9628353590455226\n",
      "Random Forest Classifier F1 Score: 1.0\n",
      "Best Parameters for Random Forest Classifier: {'max_depth': None, 'min_samples_split': 2, 'n_estimators': 50}\n",
      "Best F1 Score from Grid Search: 0.9680809081527346\n",
      "Decision Tree Regressor MSE: 0.0017592592592592462\n",
      "Random Forest Regressor MSE: 0.0013293277777777996\n",
      "Best Parameters for Random Forest Regressor: {'n_estimators': 200, 'max_features': 'sqrt', 'max_depth': 40}\n",
      "Best Negative MSE from Randomized Search: -0.10034172179916567\n"
     ]
    },
    {
     "name": "stderr",
     "output_type": "stream",
     "text": [
      "C:\\Users\\user\\AppData\\Roaming\\Python\\Python312\\site-packages\\sklearn\\model_selection\\_validation.py:540: FitFailedWarning: \n",
      "25 fits failed out of a total of 50.\n",
      "The score on these train-test partitions for these parameters will be set to nan.\n",
      "If these failures are not expected, you can try to debug them by setting error_score='raise'.\n",
      "\n",
      "Below are more details about the failures:\n",
      "--------------------------------------------------------------------------------\n",
      "25 fits failed with the following error:\n",
      "Traceback (most recent call last):\n",
      "  File \"C:\\Users\\user\\AppData\\Roaming\\Python\\Python312\\site-packages\\sklearn\\model_selection\\_validation.py\", line 888, in _fit_and_score\n",
      "    estimator.fit(X_train, y_train, **fit_params)\n",
      "  File \"C:\\Users\\user\\AppData\\Roaming\\Python\\Python312\\site-packages\\sklearn\\base.py\", line 1466, in wrapper\n",
      "    estimator._validate_params()\n",
      "  File \"C:\\Users\\user\\AppData\\Roaming\\Python\\Python312\\site-packages\\sklearn\\base.py\", line 666, in _validate_params\n",
      "    validate_parameter_constraints(\n",
      "  File \"C:\\Users\\user\\AppData\\Roaming\\Python\\Python312\\site-packages\\sklearn\\utils\\_param_validation.py\", line 95, in validate_parameter_constraints\n",
      "    raise InvalidParameterError(\n",
      "sklearn.utils._param_validation.InvalidParameterError: The 'max_features' parameter of RandomForestRegressor must be an int in the range [1, inf), a float in the range (0.0, 1.0], a str among {'log2', 'sqrt'} or None. Got 'auto' instead.\n",
      "\n",
      "  warnings.warn(some_fits_failed_message, FitFailedWarning)\n",
      "C:\\Users\\user\\AppData\\Roaming\\Python\\Python312\\site-packages\\sklearn\\model_selection\\_search.py:1103: UserWarning: One or more of the test scores are non-finite: [        nan -0.10070835         nan -0.10070835         nan -0.10034172\n",
      " -0.10070835         nan         nan -0.10070835]\n",
      "  warnings.warn(\n"
     ]
    }
   ],
   "source": [
    "from sklearn.datasets import load_wine\n",
    "from sklearn.model_selection import train_test_split, GridSearchCV, RandomizedSearchCV\n",
    "from sklearn.tree import DecisionTreeClassifier, DecisionTreeRegressor\n",
    "from sklearn.ensemble import RandomForestClassifier, RandomForestRegressor\n",
    "from sklearn.metrics import f1_score, mean_squared_error\n",
    "import numpy as np\n",
    "\n"
   ]
  },
  {
   "cell_type": "code",
   "execution_count": 2,
   "metadata": {},
   "outputs": [],
   "source": [
    "# Load the Wine Dataset\n",
    "data = load_wine()\n",
    "X, y = data.data, data.target"
   ]
  },
  {
   "cell_type": "code",
   "execution_count": 3,
   "metadata": {},
   "outputs": [],
   "source": [
    "# Split the dataset into training and testing sets\n",
    "X_train, X_test, y_train, y_test = train_test_split(X, y, test_size=0.3, random_state=42)"
   ]
  },
  {
   "cell_type": "code",
   "execution_count": 4,
   "metadata": {},
   "outputs": [
    {
     "name": "stdout",
     "output_type": "stream",
     "text": [
      "Decision Tree Classifier F1 Score: 0.9628353590455226\n",
      "Random Forest Classifier F1 Score: 1.0\n"
     ]
    }
   ],
   "source": [
    "# 1. Classification Models\n",
    "# Train a Decision Tree Classifier\n",
    "clf_dt = DecisionTreeClassifier(random_state=42)\n",
    "clf_dt.fit(X_train, y_train)\n",
    "y_pred_dt = clf_dt.predict(X_test)\n",
    "\n",
    "# Train a Random Forest Classifier\n",
    "clf_rf = RandomForestClassifier(random_state=42)\n",
    "clf_rf.fit(X_train, y_train)\n",
    "y_pred_rf = clf_rf.predict(X_test)\n",
    "\n",
    "# Compare the F1 scores\n",
    "f1_dt = f1_score(y_test, y_pred_dt, average=\"weighted\")\n",
    "f1_rf = f1_score(y_test, y_pred_rf, average=\"weighted\")\n",
    "print(f\"Decision Tree Classifier F1 Score: {f1_dt}\")\n",
    "print(f\"Random Forest Classifier F1 Score: {f1_rf}\")"
   ]
  },
  {
   "cell_type": "code",
   "execution_count": null,
   "metadata": {},
   "outputs": [],
   "source": [
    "# 2. Hyperparameter Tuning for Random Forest Classifier\n",
    "# Three hyperparameters: n_estimators, max_depth, and min_samples_split\n",
    "param_grid = {\n",
    "    \"n_estimators\": [50, 100, 200],\n",
    "    \"max_depth\": [None, 10, 20, 30],\n",
    "    \"min_samples_split\": [2, 5, 10]\n",
    "}\n",
    "\n",
    "grid_search = GridSearchCV(estimator=RandomForestClassifier(random_state=42),\n",
    "                           param_grid=param_grid,\n",
    "                           scoring=\"f1_weighted\",\n",
    "                           cv=5)\n",
    "grid_search.fit(X_train, y_train)\n",
    "print(f\"Best Parameters for Random Forest Classifier: {grid_search.best_params_}\")\n",
    "print(f\"Best F1 Score from Grid Search: {grid_search.best_score_}\")"
   ]
  },
  {
   "cell_type": "code",
   "execution_count": null,
   "metadata": {},
   "outputs": [],
   "source": [
    "# 3. Regression Models\n",
    "# Convert target to regression problem (use first feature for simplicity)\n",
    "y_reg = data.data[:, 0]\n",
    "X_train_reg, X_test_reg, y_train_reg, y_test_reg = train_test_split(X, y_reg, test_size=0.3, random_state=42)\n",
    "\n",
    "# Train a Decision Tree Regressor\n",
    "reg_dt = DecisionTreeRegressor(random_state=42)\n",
    "reg_dt.fit(X_train_reg, y_train_reg)\n",
    "y_pred_dt_reg = reg_dt.predict(X_test_reg)\n",
    "mse_dt = mean_squared_error(y_test_reg, y_pred_dt_reg)\n",
    "\n",
    "# Train a Random Forest Regressor\n",
    "reg_rf = RandomForestRegressor(random_state=42)\n",
    "reg_rf.fit(X_train_reg, y_train_reg)\n",
    "y_pred_rf_reg = reg_rf.predict(X_test_reg)\n",
    "mse_rf = mean_squared_error(y_test_reg, y_pred_rf_reg)\n",
    "\n",
    "print(f\"Decision Tree Regressor MSE: {mse_dt}\")\n",
    "print(f\"Random Forest Regressor MSE: {mse_rf}\")\n",
    "\n",
    "# Hyperparameter Tuning for Random Forest Regressor\n",
    "# Three parameters: n_estimators, max_features, and max_depth\n",
    "param_dist = {\n",
    "    \"n_estimators\": [50, 100, 200, 300],\n",
    "    \"max_features\": [\"auto\", \"sqrt\", \"log2\"],\n",
    "    \"max_depth\": [None, 10, 20, 30, 40]\n",
    "}\n",
    "\n",
    "random_search = RandomizedSearchCV(estimator=RandomForestRegressor(random_state=42),\n",
    "                                   param_distributions=param_dist,\n",
    "                                   scoring=\"neg_mean_squared_error\",\n",
    "                                   n_iter=10,\n",
    "                                   cv=5,\n",
    "                                   random_state=42)\n",
    "random_search.fit(X_train_reg, y_train_reg)\n",
    "print(f\"Best Parameters for Random Forest Regressor: {random_search.best_params_}\")\n",
    "print(f\"Best Negative MSE from Randomized Search: {random_search.best_score_}\")\n"
   ]
  }
 ],
 "metadata": {
  "kernelspec": {
   "display_name": "Python 3",
   "language": "python",
   "name": "python3"
  },
  "language_info": {
   "codemirror_mode": {
    "name": "ipython",
    "version": 3
   },
   "file_extension": ".py",
   "mimetype": "text/x-python",
   "name": "python",
   "nbconvert_exporter": "python",
   "pygments_lexer": "ipython3",
   "version": "3.12.4"
  }
 },
 "nbformat": 4,
 "nbformat_minor": 2
}
